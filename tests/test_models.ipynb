{
 "cells": [
  {
   "cell_type": "code",
   "execution_count": 1,
   "id": "f906ec72",
   "metadata": {},
   "outputs": [],
   "source": [
    "import os\n",
    "import sys\n",
    "\n",
    "import numpy as np\n",
    "import torch\n",
    "import torch.nn as nn\n",
    "\n",
    "sys.path.append(os.path.abspath(\"../src\"))\n",
    "\n",
    "from modules.model_registrar import ModelRegistrar\n",
    "from modules.encoder import NodeHistoryEncoder"
   ]
  },
  {
   "cell_type": "code",
   "execution_count": null,
   "id": "bdd6c6a9",
   "metadata": {},
   "outputs": [],
   "source": [
    "hyperparams = {\n",
    "    \"device\" : \"cpu\",\n",
    "    \"enc_rnn_dim_history\" : 32,\n",
    "}"
   ]
  },
  {
   "cell_type": "code",
   "execution_count": null,
   "id": "5eda735d",
   "metadata": {},
   "outputs": [],
   "source": [
    "model_dir = \"./\"\n",
    "model_registrar = ModelRegistrar(model_dir, hyperparams[\"device\"])\n",
    "\n",
    "node_modules = nn.ModuleDict()\n",
    "\n",
    "module_name = \"pedestrian/node_history_encoder\"\n",
    "node_modules[module_name] = model_registrar.get_model(\n",
    "                                module_name,\n",
    "                                NodeHistoryEncoder(8, hyperparams)\n",
    "                            )\n",
    "# model_registrar.print_model_names()\n",
    "print(node_modules.values())"
   ]
  }
 ],
 "metadata": {
  "kernelspec": {
   "display_name": "adaptive-trajectron",
   "language": "python",
   "name": "python3"
  },
  "language_info": {
   "codemirror_mode": {
    "name": "ipython",
    "version": 3
   },
   "file_extension": ".py",
   "mimetype": "text/x-python",
   "name": "python",
   "nbconvert_exporter": "python",
   "pygments_lexer": "ipython3",
   "version": "3.9.20"
  }
 },
 "nbformat": 4,
 "nbformat_minor": 5
}
