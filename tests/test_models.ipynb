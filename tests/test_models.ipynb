{
 "cells": [
  {
   "cell_type": "code",
   "execution_count": 1,
   "id": "f906ec72",
   "metadata": {},
   "outputs": [],
   "source": [
    "import json\n",
    "\n",
    "import numpy as np\n",
    "import torch\n",
    "import torch.nn as nn\n",
    "\n",
    "from collections import defaultdict\n",
    "\n",
    "from torch.utils import data\n",
    "from trajdata import AgentBatch, AgentType, UnifiedDataset\n",
    "from trajdata.augmentation import NoiseHistories\n",
    "\n",
    "from modules.model_registrar import ModelRegistrar\n",
    "from modules.snce import SocialNCE"
   ]
  },
  {
   "cell_type": "code",
   "execution_count": 2,
   "id": "54c001a2",
   "metadata": {},
   "outputs": [],
   "source": [
    "with open('../config/pedestrians.json', 'r', encoding=\"utf-8\") as config_json:\n",
    "    hyperparams = json.load(config_json)\n",
    "hyperparams[\"device\"] = \"cpu\"\n",
    "hyperparams[\"edge_encoding\"] = True\n",
    "hyperparams[\"learning_rate\"] = 0.016\n",
    "hyperparams[\"contrastive_weight\"] = 50.0\n",
    "hyperparams[\"history_sec\"] = 2.8\n",
    "hyperparams[\"prediction_sec\"] = 4.8\n",
    "hyperparams[\"incl_robot_node\"] = False\n",
    "hyperparams[\"map_encoding\"] = False\n",
    "hyperparams[\"preprocess_workers\"] = 16\n",
    "hyperparams[\"trajdata_cache_dir\"] = \"../data/pedestrian_datasets/.unified_data_cache\"\n",
    "\n",
    "# hyperparams"
   ]
  },
  {
   "cell_type": "code",
   "execution_count": 3,
   "id": "22a7a9bf",
   "metadata": {},
   "outputs": [],
   "source": [
    "desired_data=[\n",
    "    \"eupeds_eth-train\",\n",
    "]\n",
    "data_dirs = {\n",
    "    \"eupeds_eth\": \"~/Projects/trajectron/datasets/eth_ucy_peds\",\n",
    "}\n",
    "\n",
    "attention_radius = defaultdict(\n",
    "    lambda: 20.0\n",
    ")  # Default range is 20m unless otherwise specified.\n",
    "attention_radius[(AgentType.PEDESTRIAN, AgentType.PEDESTRIAN)] = 5.0\n",
    "\n",
    "input_noise = 0.0\n",
    "augmentations = list()\n",
    "if input_noise > 0.0:\n",
    "    augmentations.append(NoiseHistories(stddev=input_noise))"
   ]
  },
  {
   "cell_type": "code",
   "execution_count": 4,
   "id": "eda02cd0",
   "metadata": {},
   "outputs": [
    {
     "name": "stdout",
     "output_type": "stream",
     "text": [
      "Loading data for matched scene tags: ['zurich-eupeds_eth-train', 'eupeds_eth-cyprus-train']\n"
     ]
    },
    {
     "name": "stderr",
     "output_type": "stream",
     "text": [
      "Calculating Agent Data (Serially): 100%|██████████| 1/1 [00:00<00:00, 8208.03it/s]"
     ]
    },
    {
     "name": "stdout",
     "output_type": "stream",
     "text": [
      "1 scenes in the scene index.\n"
     ]
    },
    {
     "name": "stderr",
     "output_type": "stream",
     "text": [
      "\n",
      "Creating Agent Data Index (16 CPUs): 100%|██████████| 1/1 [00:00<00:00, 123.15it/s]\n",
      "Structuring Agent Data Index: 100%|██████████| 1/1 [00:00<00:00, 2275.80it/s]\n"
     ]
    }
   ],
   "source": [
    "batch_size = 4\n",
    "\n",
    "dataset = UnifiedDataset(\n",
    "    desired_data=desired_data,\n",
    "    history_sec=(0.1, hyperparams[\"history_sec\"]),\n",
    "    future_sec=(0.1, hyperparams[\"prediction_sec\"]),\n",
    "    agent_interaction_distances=attention_radius,\n",
    "    incl_robot_future=hyperparams[\"incl_robot_node\"],\n",
    "    incl_raster_map=hyperparams[\"map_encoding\"],\n",
    "    only_predict=[AgentType.PEDESTRIAN],\n",
    "    no_types=[AgentType.UNKNOWN],\n",
    "    augmentations=augmentations if len(augmentations) > 0 else None,\n",
    "    num_workers=hyperparams[\"preprocess_workers\"],\n",
    "    cache_location=hyperparams[\"trajdata_cache_dir\"],\n",
    "    data_dirs=data_dirs,\n",
    "    verbose=True,\n",
    ")\n",
    "\n",
    "dataloader = data.DataLoader(\n",
    "    dataset,\n",
    "    collate_fn=dataset.get_collate_fn(pad_format=\"right\"),\n",
    "    pin_memory=False if hyperparams[\"device\"] == \"cpu\" else True,\n",
    "    batch_size=batch_size,\n",
    "    shuffle=True,\n",
    "    num_workers=hyperparams[\"preprocess_workers\"],\n",
    "    sampler=None,\n",
    ")\n",
    "\n",
    "batch: AgentBatch = next(iter(dataloader))"
   ]
  },
  {
   "cell_type": "code",
   "execution_count": 5,
   "id": "0f516bda",
   "metadata": {},
   "outputs": [
    {
     "name": "stdout",
     "output_type": "stream",
     "text": [
      "Agent Future Length: tensor([ 7,  4, 12,  4])\n",
      "Neigbors Future Length: tensor([[ 7,  7,  7,  7,  7,  7,  7,  7,  7],\n",
      "        [ 6,  1,  0,  0,  0,  0,  0,  0,  0],\n",
      "        [ 9, 12, 11, 10,  0,  0,  0,  0,  0],\n",
      "        [ 0,  0,  0,  0,  0,  0,  0,  0,  0]])\n"
     ]
    }
   ],
   "source": [
    "print(f\"Agent Future Length: {batch.agent_fut_len}\")\n",
    "print(f\"Neigbors Future Length: {batch.neigh_fut_len}\")"
   ]
  },
  {
   "cell_type": "code",
   "execution_count": 6,
   "id": "bdd6c6a9",
   "metadata": {},
   "outputs": [],
   "source": [
    "model_dir = \"./\"\n",
    "model_registrar = ModelRegistrar(model_dir, hyperparams[\"device\"])"
   ]
  },
  {
   "cell_type": "code",
   "execution_count": 7,
   "id": "c338aee8",
   "metadata": {},
   "outputs": [],
   "source": [
    "snce = SocialNCE(\n",
    "    feat_dim=2*hyperparams[\"enc_rnn_dim_history\"],\n",
    "    proj_head_dim=hyperparams[\"head_proj_dim\"],\n",
    "    event_enc_dim=hyperparams[\"event_enc_dim\"],\n",
    "    snce_head_dim=hyperparams[\"snce_head_dim\"],\n",
    "    device=hyperparams[\"device\"]\n",
    ").to(hyperparams[\"device\"])"
   ]
  },
  {
   "cell_type": "code",
   "execution_count": 8,
   "id": "2af74a9d",
   "metadata": {},
   "outputs": [],
   "source": [
    "x_size = 64\n",
    "enc = torch.rand((batch_size, x_size))"
   ]
  },
  {
   "cell_type": "code",
   "execution_count": 9,
   "id": "72c5d013",
   "metadata": {},
   "outputs": [
    {
     "data": {
      "text/plain": [
       "tensor(1.5972, grad_fn=<DivBackward0>)"
      ]
     },
     "execution_count": 9,
     "metadata": {},
     "output_type": "execute_result"
    }
   ],
   "source": [
    "loss_snce = snce.loss(enc, batch)\n",
    "loss_snce"
   ]
  },
  {
   "cell_type": "code",
   "execution_count": null,
   "id": "c8eaf7ee",
   "metadata": {},
   "outputs": [],
   "source": []
  }
 ],
 "metadata": {
  "kernelspec": {
   "display_name": "fsp",
   "language": "python",
   "name": "python3"
  },
  "language_info": {
   "codemirror_mode": {
    "name": "ipython",
    "version": 3
   },
   "file_extension": ".py",
   "mimetype": "text/x-python",
   "name": "python",
   "nbconvert_exporter": "python",
   "pygments_lexer": "ipython3",
   "version": "3.9.21"
  }
 },
 "nbformat": 4,
 "nbformat_minor": 5
}
