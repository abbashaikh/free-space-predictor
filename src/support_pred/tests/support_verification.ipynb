{
 "cells": [
  {
   "cell_type": "code",
   "execution_count": 1,
   "id": "dc453906",
   "metadata": {},
   "outputs": [],
   "source": [
    "# Imports\n",
    "from traj_pred.modules.model_registrar import ModelRegistrar\n",
    "from traj_pred.utils.annealing import step_annealers"
   ]
  },
  {
   "cell_type": "code",
   "execution_count": 1,
   "id": "f9fdbbef",
   "metadata": {},
   "outputs": [],
   "source": [
    "import support_pred.halfplane_module as hm"
   ]
  },
  {
   "cell_type": "code",
   "execution_count": 2,
   "id": "0d6c8803",
   "metadata": {},
   "outputs": [],
   "source": [
    "processor = hm.HalfplaneIntersectionProcessor(500, 50.0)"
   ]
  },
  {
   "cell_type": "code",
   "execution_count": 2,
   "id": "a7946e20",
   "metadata": {},
   "outputs": [
    {
     "name": "stdout",
     "output_type": "stream",
     "text": [
      "/home/abbas/miniconda3/envs/fsp/lib/python3.9/site-packages\n",
      "lib/python3.9/site-packages\n",
      "/home/abbas/miniconda3/envs/fsp\n"
     ]
    }
   ],
   "source": [
    "import sys\n",
    "import sysconfig\n",
    "site_packages = sysconfig.get_path(\"purelib\")  # e.g. '/…/lib/python3.9/site-packages'\n",
    "cmake_install_dir = site_packages.replace(sys.prefix + \"/\", \"\")\n",
    "print(site_packages)\n",
    "print(cmake_install_dir)\n",
    "print(sys.prefix)"
   ]
  },
  {
   "cell_type": "code",
   "execution_count": 3,
   "id": "9ba3bf79",
   "metadata": {},
   "outputs": [
    {
     "data": {
      "text/plain": [
       "'/home/abbas/miniconda3/envs/fsp/bin/python'"
      ]
     },
     "execution_count": 3,
     "metadata": {},
     "output_type": "execute_result"
    }
   ],
   "source": [
    "sys.executable"
   ]
  },
  {
   "cell_type": "code",
   "execution_count": 4,
   "id": "f6feb6f5",
   "metadata": {},
   "outputs": [
    {
     "data": {
      "text/plain": [
       "'/home/abbas/miniconda3/envs/fsp'"
      ]
     },
     "execution_count": 4,
     "metadata": {},
     "output_type": "execute_result"
    }
   ],
   "source": [
    "import os\n",
    "os.environ.get(\"VIRTUAL_ENV\", sys.prefix)"
   ]
  }
 ],
 "metadata": {
  "kernelspec": {
   "display_name": "fsp",
   "language": "python",
   "name": "python3"
  },
  "language_info": {
   "codemirror_mode": {
    "name": "ipython",
    "version": 3
   },
   "file_extension": ".py",
   "mimetype": "text/x-python",
   "name": "python",
   "nbconvert_exporter": "python",
   "pygments_lexer": "ipython3",
   "version": "3.9.21"
  }
 },
 "nbformat": 4,
 "nbformat_minor": 5
}
